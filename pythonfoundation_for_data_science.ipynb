{
  "nbformat": 4,
  "nbformat_minor": 0,
  "metadata": {
    "colab": {
      "name": "pythonfoundation for data science.ipynb",
      "version": "0.3.2",
      "provenance": [],
      "collapsed_sections": [],
      "include_colab_link": true
    },
    "kernelspec": {
      "name": "python3",
      "display_name": "Python 3"
    }
  },
  "cells": [
    {
      "cell_type": "markdown",
      "metadata": {
        "id": "view-in-github",
        "colab_type": "text"
      },
      "source": [
        "[View in Colaboratory](https://colab.research.google.com/github/learningbat/pythonfoundations/blob/master/pythonfoundation_for_data_science.ipynb)"
      ]
    },
    {
      "metadata": {
        "id": "lMsp6sRXjE_T",
        "colab_type": "text"
      },
      "cell_type": "markdown",
      "source": [
        "# ** Introdution to python for data science **"
      ]
    },
    {
      "metadata": {
        "id": "P1kdwSovjat5",
        "colab_type": "code",
        "colab": {
          "base_uri": "https://localhost:8080/"
        },
        "outputId": "5ca5bbc1-415c-4fc2-89ce-d4e87709620c"
      },
      "cell_type": "code",
      "source": [
        "A=[[1,2,3,4],[5,6,7,8],[9,10,11,12]]\n",
        "print(A)\n",
        "AT=[]\n",
        "for i in range(4):\n",
        "  row_trans=[]\n",
        "  for row in A:\n",
        "    row_trans.append(row[i])\n",
        "  AT.append(row_trans)\n",
        "print(AT)\n",
        "  \n"
      ],
      "execution_count": 1,
      "outputs": [
        {
          "output_type": "stream",
          "text": [
            "[[1, 2, 3, 4], [5, 6, 7, 8], [9, 10, 11, 12]]\n",
            "[[1, 5, 9], [2, 6, 10], [3, 7, 11], [4, 8, 12]]\n"
          ],
          "name": "stdout"
        }
      ]
    }
  ]
}
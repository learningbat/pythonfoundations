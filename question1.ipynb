{
  "nbformat": 4,
  "nbformat_minor": 0,
  "metadata": {
    "colab": {
      "name": "question1.ipynb",
      "version": "0.3.2",
      "provenance": [],
      "collapsed_sections": [],
      "include_colab_link": true
    },
    "kernelspec": {
      "name": "python3",
      "display_name": "Python 3"
    }
  },
  "cells": [
    {
      "cell_type": "markdown",
      "metadata": {
        "id": "view-in-github",
        "colab_type": "text"
      },
      "source": [
        "<a href=\"https://colab.research.google.com/github/learningbat/pythonfoundations/blob/master/question1.ipynb\" target=\"_parent\"><img src=\"https://colab.research.google.com/assets/colab-badge.svg\" alt=\"Open In Colab\"/></a>"
      ]
    },
    {
      "metadata": {
        "id": "F4SY1v5w1Dfa",
        "colab_type": "text"
      },
      "cell_type": "markdown",
      "source": [
        "# **We have a Json file with keys and values like below, Need to reorder the below json in python with the indexes key in json**"
      ]
    },
    {
      "metadata": {
        "id": "SXG8Kr2n1wH9",
        "colab_type": "text"
      },
      "cell_type": "markdown",
      "source": [
        "### **Input**\n",
        "dct={\n",
        "    \"k4\":\"val4\",\n",
        "    \"k1\":\"val1\",\n",
        "    \"k9\":\"val9\",\n",
        "    \"k8\":\"val8\",\n",
        "    \"k5\":\"val5\",\n",
        "    \"k7\":\"val7\",\n",
        "    \"k6\":\"dummy\",\n",
        "    \"k2\":\"val2\",\n",
        "    \"k3\":\"val3\",\n",
        "    \"k10\":\"any val\",\n",
        "    \"indexes\":{\n",
        "        \"1\":\"k5\",\n",
        "        \"7\":\"k8\",\n",
        "        \"2\":\"k1\",\n",
        "        \"8\":\"k3\",\n",
        "        \"6\":\"k4\",\n",
        "        \"0\":\"k2\",\n",
        "        \"3\":\"k9\",\n",
        "        \"4\":\"k6\",\n",
        "        \"5\":\"k7\",\n",
        "        \"9\":\"k10\"\n",
        "    }\n",
        "}\n",
        "\n",
        "\n",
        "---\n",
        "\n",
        "### **Output**\n",
        "{\n",
        "\"k2\":\"val2\",\n",
        "\"k5\":\"val5\",\n",
        "\"k1\":\"val1\",\n",
        "\"k9\":\"val9\",\n",
        "\"k6\":\"dummy\",\n",
        "\"k7\":\"val7\",\n",
        "\"k4\":\"val4\",\n",
        "\"k8\":\"val8\",\n",
        "\"k3\":\"val3\",\n",
        "\"k10\":\"any val\",\n",
        "}\n"
      ]
    },
    {
      "metadata": {
        "id": "grzX_O8jwzOS",
        "colab_type": "code",
        "colab": {}
      },
      "cell_type": "code",
      "source": [
        "import collections"
      ],
      "execution_count": 0,
      "outputs": []
    },
    {
      "metadata": {
        "id": "QkMHAGP8yta7",
        "colab_type": "code",
        "colab": {}
      },
      "cell_type": "code",
      "source": [
        "def sort_json_on_index(dct):\n",
        "    '''\n",
        "    I/P : Json object with one of the key being indexes and corresponding value is a dictionay\n",
        "            contains the key,val pairs. Where the value is a key in the json object\n",
        "    O/P : Sorted key,val pair of the json object except indexes where the order depends on the\n",
        "            key of the indexes dictionary corresponding to the key of the json object\n",
        "    Example : I/P: {\"k2\":\"val3\",\"k1\":\"val1\",\"k3\":\"val3\",\"indexes\":{\"0\":\"k3\",\"1\":\"k2\",\"2\":\"k1\"}}  \n",
        "              O/P: {\"k3\":\"val3\",\"k2\":\"val2\",\"k1\":\"val1\"}\n",
        "    '''\n",
        "    #unordered dictionay to capture the output in the order of insertion\n",
        "    out_dict=collections.OrderedDict()\n",
        "    #get the indexes from the json/dict\n",
        "    idx_unsrtd=dct['indexes']\n",
        "    #sort the indexes dict based on the int(key)\n",
        "    idx_srtd=sorted(idx_unsrtd.items(),key=lambda pair: int(pair[0]))\n",
        "\n",
        "    for pair in idx_srtd:\n",
        "        if pair[1] in dct:\n",
        "            out_dict[pair[1]]=dct[pair[1]]\n",
        "    \n",
        "    return out_dict"
      ],
      "execution_count": 0,
      "outputs": []
    },
    {
      "metadata": {
        "id": "h-EtoUFyyx8o",
        "colab_type": "code",
        "colab": {}
      },
      "cell_type": "code",
      "source": [
        "def print_dct_in_json(dct):\n",
        "    '''\n",
        "    Beautify the unordered dictionay according to expected output\n",
        "    '''\n",
        "    print(\"{\")\n",
        "    for pair in dct.items():\n",
        "        print('\"{}\":\"{}\",'.format(pair[0],pair[1]))\n",
        "    print(\"}\")"
      ],
      "execution_count": 0,
      "outputs": []
    },
    {
      "metadata": {
        "id": "OyAvSx-6y1SV",
        "colab_type": "code",
        "colab": {}
      },
      "cell_type": "code",
      "source": [
        "dct={\n",
        "    \"k4\":\"val4\",\n",
        "    \"k1\":\"val1\",\n",
        "    \"k9\":\"val9\",\n",
        "    \"k8\":\"val8\",\n",
        "    \"k5\":\"val5\",\n",
        "    \"k7\":\"val7\",\n",
        "    \"k6\":\"dummy\",\n",
        "    \"k2\":\"val2\",\n",
        "    \"k3\":\"val3\",\n",
        "    \"k10\":\"any val\",\n",
        "    \"indexes\":{\n",
        "        \"1\":\"k5\",\n",
        "        \"7\":\"k8\",\n",
        "        \"2\":\"k1\",\n",
        "        \"8\":\"k3\",\n",
        "        \"6\":\"k4\",\n",
        "        \"0\":\"k2\",\n",
        "        \"3\":\"k9\",\n",
        "        \"4\":\"k6\",\n",
        "        \"5\":\"k7\",\n",
        "        \"9\":\"k10\"\n",
        "    }\n",
        "}"
      ],
      "execution_count": 0,
      "outputs": []
    },
    {
      "metadata": {
        "id": "QVOtUcqmy5XP",
        "colab_type": "code",
        "outputId": "68b9d5d3-6833-4ae1-9b2f-9d41bc3b43fd",
        "colab": {
          "base_uri": "https://localhost:8080/",
          "height": 225
        }
      },
      "cell_type": "code",
      "source": [
        "print_dct_in_json(sort_json_on_index(dct))"
      ],
      "execution_count": 5,
      "outputs": [
        {
          "output_type": "stream",
          "text": [
            "{\n",
            "\"k2\":\"val2\",\n",
            "\"k5\":\"val5\",\n",
            "\"k1\":\"val1\",\n",
            "\"k9\":\"val9\",\n",
            "\"k6\":\"dummy\",\n",
            "\"k7\":\"val7\",\n",
            "\"k4\":\"val4\",\n",
            "\"k8\":\"val8\",\n",
            "\"k3\":\"val3\",\n",
            "\"k10\":\"any val\",\n",
            "}\n"
          ],
          "name": "stdout"
        }
      ]
    }
  ]
}